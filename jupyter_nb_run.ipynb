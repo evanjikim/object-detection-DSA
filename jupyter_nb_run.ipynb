{
 "cells": [
  {
   "cell_type": "code",
   "execution_count": 3,
   "metadata": {
    "scrolled": true
   },
   "outputs": [
    {
     "name": "stdout",
     "output_type": "stream",
     "text": [
      "Collecting keras==2.1.6\n",
      "  Downloading https://files.pythonhosted.org/packages/54/e8/eaff7a09349ae9bd40d3ebaf028b49f5e2392c771f294910f75bb608b241/Keras-2.1.6-py2.py3-none-any.whl (339kB)\n",
      "Requirement already satisfied: scipy>=0.14 in c:\\users\\evan\\anaconda3\\lib\\site-packages (from keras==2.1.6) (1.2.1)\n",
      "Requirement already satisfied: six>=1.9.0 in c:\\users\\evan\\anaconda3\\lib\\site-packages (from keras==2.1.6) (1.12.0)\n",
      "Requirement already satisfied: numpy>=1.9.1 in c:\\users\\evan\\anaconda3\\lib\\site-packages (from keras==2.1.6) (1.16.2)\n",
      "Requirement already satisfied: pyyaml in c:\\users\\evan\\anaconda3\\lib\\site-packages (from keras==2.1.6) (5.1)\n",
      "Requirement already satisfied: h5py in c:\\users\\evan\\anaconda3\\lib\\site-packages (from keras==2.1.6) (2.9.0)\n",
      "Installing collected packages: keras\n",
      "Successfully installed keras-2.1.6\n",
      "Note: you may need to restart the kernel to use updated packages.\n"
     ]
    }
   ],
   "source": [
    "pip install keras==2.1.6"
   ]
  },
  {
   "cell_type": "code",
   "execution_count": 1,
   "metadata": {},
   "outputs": [
    {
     "name": "stdout",
     "output_type": "stream",
     "text": [
      "[WinError 2] The system cannot find the file specified: 'ls'\n",
      "C:\\Users\\evan\\Desktop\\keras-frcnn\n"
     ]
    }
   ],
   "source": [
    "%cd ls\n"
   ]
  },
  {
   "cell_type": "code",
   "execution_count": 4,
   "metadata": {},
   "outputs": [
    {
     "name": "stdout",
     "output_type": "stream",
     "text": [
      "Requirement already satisfied: opencv-python in c:\\users\\evan\\anaconda3\\lib\\site-packages (4.1.0.25)\n",
      "Requirement already satisfied: numpy>=1.14.5 in c:\\users\\evan\\anaconda3\\lib\\site-packages (from opencv-python) (1.16.2)\n",
      "Note: you may need to restart the kernel to use updated packages.\n"
     ]
    }
   ],
   "source": [
    "pip install opencv-python"
   ]
  },
  {
   "cell_type": "code",
   "execution_count": 7,
   "metadata": {},
   "outputs": [
    {
     "name": "stdout",
     "output_type": "stream",
     "text": [
      "Requirement already satisfied: tensorflow in c:\\users\\evan\\anaconda3\\lib\\site-packages (1.13.1)\n",
      "Requirement already satisfied: six>=1.10.0 in c:\\users\\evan\\anaconda3\\lib\\site-packages (from tensorflow) (1.12.0)\n",
      "Requirement already satisfied: wheel>=0.26 in c:\\users\\evan\\anaconda3\\lib\\site-packages (from tensorflow) (0.33.1)\n",
      "Requirement already satisfied: tensorflow-estimator<1.14.0rc0,>=1.13.0 in c:\\users\\evan\\anaconda3\\lib\\site-packages (from tensorflow) (1.13.0)\n",
      "Requirement already satisfied: termcolor>=1.1.0 in c:\\users\\evan\\anaconda3\\lib\\site-packages (from tensorflow) (1.1.0)\n",
      "Requirement already satisfied: absl-py>=0.1.6 in c:\\users\\evan\\anaconda3\\lib\\site-packages (from tensorflow) (0.7.1)\n",
      "Requirement already satisfied: grpcio>=1.8.6 in c:\\users\\evan\\anaconda3\\lib\\site-packages (from tensorflow) (1.21.1)\n",
      "Requirement already satisfied: astor>=0.6.0 in c:\\users\\evan\\anaconda3\\lib\\site-packages (from tensorflow) (0.8.0)\n",
      "Requirement already satisfied: keras-preprocessing>=1.0.5 in c:\\users\\evan\\anaconda3\\lib\\site-packages (from tensorflow) (1.1.0)\n",
      "Requirement already satisfied: tensorboard<1.14.0,>=1.13.0 in c:\\users\\evan\\anaconda3\\lib\\site-packages (from tensorflow) (1.13.1)\n",
      "Requirement already satisfied: keras-applications>=1.0.6 in c:\\users\\evan\\anaconda3\\lib\\site-packages (from tensorflow) (1.0.8)\n",
      "Requirement already satisfied: protobuf>=3.6.1 in c:\\users\\evan\\anaconda3\\lib\\site-packages (from tensorflow) (3.8.0)\n",
      "Requirement already satisfied: numpy>=1.13.3 in c:\\users\\evan\\anaconda3\\lib\\site-packages (from tensorflow) (1.16.2)\n",
      "Requirement already satisfied: gast>=0.2.0 in c:\\users\\evan\\anaconda3\\lib\\site-packages (from tensorflow) (0.2.2)\n",
      "Requirement already satisfied: mock>=2.0.0 in c:\\users\\evan\\anaconda3\\lib\\site-packages (from tensorflow-estimator<1.14.0rc0,>=1.13.0->tensorflow) (3.0.5)\n",
      "Requirement already satisfied: werkzeug>=0.11.15 in c:\\users\\evan\\anaconda3\\lib\\site-packages (from tensorboard<1.14.0,>=1.13.0->tensorflow) (0.14.1)\n",
      "Requirement already satisfied: markdown>=2.6.8 in c:\\users\\evan\\anaconda3\\lib\\site-packages (from tensorboard<1.14.0,>=1.13.0->tensorflow) (3.1.1)\n",
      "Requirement already satisfied: h5py in c:\\users\\evan\\anaconda3\\lib\\site-packages (from keras-applications>=1.0.6->tensorflow) (2.9.0)\n",
      "Requirement already satisfied: setuptools in c:\\users\\evan\\anaconda3\\lib\\site-packages (from protobuf>=3.6.1->tensorflow) (40.8.0)\n",
      "Note: you may need to restart the kernel to use updated packages.\n"
     ]
    }
   ],
   "source": [
    "pip install tensorflow"
   ]
  },
  {
   "cell_type": "code",
   "execution_count": 8,
   "metadata": {},
   "outputs": [
    {
     "name": "stdout",
     "output_type": "stream",
     "text": [
      "{0: 'occlusion', 1: 'bg'}\n",
      "Loading weights from ./model_frcnn.hdf5\n",
      "331_Pre_Frontal.png\n",
      "Elapsed time = 8.840983867645264\n",
      "[('occlusion', 97.88828492164612)]\n",
      "331_Pre_Lateral.png\n",
      "Elapsed time = 12.121461868286133\n",
      "[('occlusion', 98.15080761909485), ('occlusion', 97.61669635772705)]\n",
      "339_Pre_Frontal.png\n",
      "Elapsed time = 12.488669395446777\n",
      "[]\n",
      "339_Pre_Lateral.png\n",
      "Elapsed time = 7.875140190124512\n",
      "[('occlusion', 97.90457487106323), ('occlusion', 89.91566300392151)]\n",
      "341_Pre_Frontal.png\n",
      "Elapsed time = 6.520598411560059\n",
      "[('occlusion', 99.94192123413086)]\n",
      "341_Pre_Lateral.png\n",
      "Elapsed time = 6.5887908935546875\n",
      "[('occlusion', 98.49020838737488)]\n",
      "343_Pre_Frontal.png\n",
      "Elapsed time = 7.286119699478149\n",
      "[]\n",
      "343_Pre_Lateral.png\n",
      "Elapsed time = 6.806567192077637\n",
      "[('occlusion', 98.85860085487366), ('occlusion', 98.52955341339111)]\n",
      "347_Pre_Frontal.png\n",
      "Elapsed time = 7.268402814865112\n",
      "[]\n",
      "347_Pre_Lateral.png\n",
      "Elapsed time = 6.615871906280518\n",
      "[]\n",
      "349_Pre_Frontal.png\n",
      "Elapsed time = 6.567496061325073\n",
      "[]\n",
      "349_Pre_Lateral.png\n",
      "Elapsed time = 6.411447763442993\n",
      "[('occlusion', 89.30270671844482)]\n"
     ]
    },
    {
     "name": "stderr",
     "output_type": "stream",
     "text": [
      "Using TensorFlow backend.\n",
      "WARNING:tensorflow:From C:\\Users\\evan\\Anaconda3\\lib\\site-packages\\tensorflow\\python\\framework\\op_def_library.py:263: colocate_with (from tensorflow.python.framework.ops) is deprecated and will be removed in a future version.\n",
      "Instructions for updating:\n",
      "Colocations handled automatically by placer.\n",
      "2019-06-06 12:04:25.273932: I tensorflow/core/platform/cpu_feature_guard.cc:141] Your CPU supports instructions that this TensorFlow binary was not compiled to use: AVX2\n"
     ]
    }
   ],
   "source": [
    "!py test_frcnn.py -p test_images"
   ]
  },
  {
   "cell_type": "code",
   "execution_count": null,
   "metadata": {},
   "outputs": [],
   "source": []
  },
  {
   "cell_type": "code",
   "execution_count": null,
   "metadata": {},
   "outputs": [],
   "source": []
  }
 ],
 "metadata": {
  "kernelspec": {
   "display_name": "Python 3",
   "language": "python",
   "name": "python3"
  }
 },
 "nbformat": 4,
 "nbformat_minor": 2
}
